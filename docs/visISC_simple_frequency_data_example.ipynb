{
 "cells": [
  {
   "cell_type": "markdown",
   "metadata": {},
   "source": [
    "# visISC Example: Visualizing Anomalous Frequency Data with Classes \n",
    "In this example, we will show what to do when you are analysing frequency counts of data and you want to identify which part of the data is the reason for a deviation. For plotting the data in 3D, we use the open source 3D plotting library <a href=\"http://docs.enthought.com/mayavi/mayavi/\">Mayavi</a>."
   ]
  },
  {
   "cell_type": "code",
   "execution_count": null,
   "metadata": {
    "collapsed": false
   },
   "outputs": [],
   "source": [
    "import pyisc;\n",
    "import visisc;\n",
    "import numpy as np\n",
    "import datetime\n",
    "from scipy.stats import poisson, norm, multivariate_normal\n",
    "%matplotlib wx\n",
    "from pylab import plot, figure"
   ]
  },
  {
   "cell_type": "markdown",
   "metadata": {},
   "source": [
    "## Event Frequency Data\n",
    "First, we create a event data set using a set of Poisson distributed frequency counts and then train an anomaly detector. Each row in the data consists of an event source (for instance, an identifier of a machine), an optional event source class (for instance, the machine type), a time stamp (a date), a measurment period (for instance, number of days), and a set of different events with frequency counts."
   ]
  },
  {
   "cell_type": "code",
   "execution_count": null,
   "metadata": {
    "collapsed": false
   },
   "outputs": [],
   "source": [
    "n_sources = 10\n",
    "n_events = 20\n",
    "num_of_normal_days = 200\n",
    "num_of_anomalous_days = 10\n",
    "data = None\n",
    "days_list = [num_of_normal_days, num_of_anomalous_days]\n",
    "dates = []\n",
    "for state in [0,1]: # normal, anomalous data\n",
    "    num_of_days = days_list[state]\n",
    "    for i in range(n_sources):\n",
    "        data0 = None\n",
    "        for j in range(n_events):\n",
    "            if state == 0:# Normal\n",
    "                po_dist = poisson(int((10+2*(n_sources-i))*(float(j)/n_events/2+0.75))) # from 0.75 to 1.25\n",
    "            else: # anomalous\n",
    "                po_dist = poisson(int((20+2*(n_sources-i))*(float(j)/n_events+0.5))) # from 0.5 to 1.5\n",
    "\n",
    "            tmp = po_dist.rvs(num_of_days)\n",
    "            if data0 is None:\n",
    "                data0 = tmp\n",
    "            else:\n",
    "                data0 = np.c_[data0,tmp]\n",
    "\n",
    "        tmp =  np.c_[\n",
    "                    [i] * (num_of_days), # Sources\n",
    "                    [ # Timestamp\n",
    "                        datetime.date(2015,02,24) + datetime.timedelta(d) \n",
    "                        for d in np.array(range(num_of_days)) + (0 if state==0 else num_of_normal_days)\n",
    "                    ], \n",
    "                    [1] * (num_of_days), # Measurement period\n",
    "                    data0, # Event frequency counts\n",
    "                    \n",
    "                    ]\n",
    "        \n",
    "        if data is None:\n",
    "            data = tmp\n",
    "        else:\n",
    "            data = np.r_[\n",
    "                tmp,\n",
    "                data\n",
    "            ]\n",
    "\n",
    "# Column index into the data\n",
    "source_column = 0\n",
    "date_column = 1\n",
    "period_column = 2\n",
    "first_event_column = 3\n",
    "last_event_column = first_event_column + n_events"
   ]
  },
  {
   "cell_type": "markdown",
   "metadata": {},
   "source": [
    "## Flat Event Data Model\n",
    "<b>Next, we create a event data model that describes how our events are connected. In this case, we assume only a flat structure with events</b>"
   ]
  },
  {
   "cell_type": "markdown",
   "metadata": {},
   "source": [
    "First we create a flat model with a root element where all columns in the data are subelements:"
   ]
  },
  {
   "cell_type": "code",
   "execution_count": null,
   "metadata": {
    "collapsed": true
   },
   "outputs": [],
   "source": [
    "model = visisc.EventDataModel.flat_model(\n",
    "    event_columns=range(first_event_column,last_event_column)\n",
    ")"
   ]
  },
  {
   "cell_type": "markdown",
   "metadata": {},
   "source": [
    "Second we transform numpy array to a pyisc data object. The data object consists of the orginial event columns, the source column, period column and a root column containg the sum of all event frequency counts per day. In this case, the source and the class are the same. The source identifies the origin of the data, for instance, the user or machine that generates the data, while the class is the type of source. A reference to the last created data object is also kept in the model."
   ]
  },
  {
   "cell_type": "code",
   "execution_count": null,
   "metadata": {
    "collapsed": false
   },
   "outputs": [],
   "source": [
    "data_object = model.data_object(    \n",
    "    data,\n",
    "    source_column = source_column,\n",
    "    class_column = source_column,\n",
    "    period_column = period_column,\n",
    "    date_column =  date_column\n",
    ")"
   ]
  },
  {
   "cell_type": "markdown",
   "metadata": {},
   "source": [
    "Thereafter, we create an anomaly detector and fit a onesided poisson distribution for each event column.\n",
    "A reference to the last created and fitted anomaly detector is also kept in the model"
   ]
  },
  {
   "cell_type": "code",
   "execution_count": null,
   "metadata": {
    "collapsed": true
   },
   "outputs": [],
   "source": [
    "anomaly_detector = model.fit_anomaly_detector(data_object, poisson_onesided=True)"
   ]
  },
  {
   "cell_type": "markdown",
   "metadata": {},
   "source": [
    "## Visualization\n",
    "Finally, we can viualize the event frequency data using the Visualization class. However, due to incompatibility between the used 3D engine (<a href=\"http://docs.enthought.com/mayavi/mayavi/\">Mayavi</a>) and Jupyter notebook, we have to run the notebook as a script:"
   ]
  },
  {
   "cell_type": "markdown",
   "metadata": {},
   "source": [
    "vis = visisc.EventVisualization(model, 13.8,start_day=209)"
   ]
  },
  {
   "cell_type": "code",
   "execution_count": null,
   "metadata": {
    "collapsed": false
   },
   "outputs": [],
   "source": [
    "!ipython --matplotlib=wx --gui=wx -i visISC_simple_frequency_data_example.py"
   ]
  },
  {
   "cell_type": "markdown",
   "metadata": {},
   "source": [
    "Now you soon will se a window looking similar to the picture below, which shows the 30 last (y-axis) frequancy counts (z-axis) for the different sources (x-axis). The white color means anomaly scores less than 13.8, while red color means anomaly scores larger than 13.8. As can be seen, only the last 10 days are anomalous. For more on interacting with the visualisation window, see Mayavi documenttation on <a href=\"http://docs.enthought.com/mayavi/mayavi/application.html#interaction-with-the-scene\">Interaction with the scene</a>.<br/>\n",
    "<img src=\"simple_vis_1.png\"/><br/>\n",
    "If we click on a source label or a bar, we can zoom into the source instance and we can see the detail of each event frequency count (x-axis). Below, the data for source 2 is shown and now, we see that only if we look at the root element, we are able to detect this instance as an anomaly.<br/>\n",
    "<img src=\"simple_vis_2.png\"/>"
   ]
  },
  {
   "cell_type": "markdown",
   "metadata": {},
   "source": [
    "## Analysing a different data set than used for training\n",
    "In the shown example, we have used the same data for training the anomaly detector as we use when visualizing. However, we can easily replace the data set by calling model.data_object again with another data set, and then create a new instance of Visualization."
   ]
  }
 ],
 "metadata": {
  "kernelspec": {
   "display_name": "Python 2",
   "language": "python",
   "name": "python2"
  },
  "language_info": {
   "codemirror_mode": {
    "name": "ipython",
    "version": 2
   },
   "file_extension": ".py",
   "mimetype": "text/x-python",
   "name": "python",
   "nbconvert_exporter": "python",
   "pygments_lexer": "ipython2",
   "version": "2.7.10"
  }
 },
 "nbformat": 4,
 "nbformat_minor": 0
}
